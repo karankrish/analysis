{
 "cells": [
  {
   "cell_type": "code",
   "execution_count": 1,
   "metadata": {
    "collapsed": true
   },
   "outputs": [],
   "source": [
    "import pandas as pd\n",
    "import numpy as np\n",
    "import sklearn"
   ]
  },
  {
   "cell_type": "code",
   "execution_count": 2,
   "metadata": {
    "collapsed": false
   },
   "outputs": [],
   "source": [
    "data = pd.read_excel(\"2010 Federal STEM Education Inventory Data Set.xls\",index = False)"
   ]
  },
  {
   "cell_type": "code",
   "execution_count": 3,
   "metadata": {
    "collapsed": false
   },
   "outputs": [
    {
     "data": {
      "text/html": [
       "<div>\n",
       "<table border=\"1\" class=\"dataframe\">\n",
       "  <thead>\n",
       "    <tr style=\"text-align: right;\">\n",
       "      <th></th>\n",
       "      <th>PROGRAM</th>\n",
       "      <th>Unnamed: 1</th>\n",
       "      <th>Unnamed: 2</th>\n",
       "      <th>Unnamed: 3</th>\n",
       "      <th>FUNDING</th>\n",
       "      <th>Unnamed: 5</th>\n",
       "      <th>Unnamed: 6</th>\n",
       "      <th>Unnamed: 7</th>\n",
       "      <th>Unnamed: 8</th>\n",
       "      <th>Unnamed: 9</th>\n",
       "      <th>...</th>\n",
       "      <th>Unnamed: 245</th>\n",
       "      <th>Unnamed: 246</th>\n",
       "      <th>Unnamed: 247</th>\n",
       "      <th>Unnamed: 248</th>\n",
       "      <th>Unnamed: 249</th>\n",
       "      <th>Unnamed: 250</th>\n",
       "      <th>Unnamed: 251</th>\n",
       "      <th>Unnamed: 252</th>\n",
       "      <th>Unnamed: 253</th>\n",
       "      <th>Unnamed: 254</th>\n",
       "    </tr>\n",
       "  </thead>\n",
       "  <tbody>\n",
       "    <tr>\n",
       "      <th>Index Number</th>\n",
       "      <td>Investment Name</td>\n",
       "      <td>Agency</td>\n",
       "      <td>Subagency</td>\n",
       "      <td>A) Brief Description</td>\n",
       "      <td>B) Year Established</td>\n",
       "      <td>C1) Funding FY2008</td>\n",
       "      <td>C2) Funding FY2009</td>\n",
       "      <td>C3) Funding FY2010</td>\n",
       "      <td>D) Mission-specific or General STEM?</td>\n",
       "      <td>E) Agency or Mission-Related Workforce Needs?</td>\n",
       "      <td>...</td>\n",
       "      <td>NaN</td>\n",
       "      <td>NaN</td>\n",
       "      <td>Y3) Process or Implementation Evaluation Type</td>\n",
       "      <td>NaN</td>\n",
       "      <td>NaN</td>\n",
       "      <td>Y4) Portfolio Evaluation/Review Type</td>\n",
       "      <td>NaN</td>\n",
       "      <td>NaN</td>\n",
       "      <td>Y5) Expert Review Type</td>\n",
       "      <td>NaN</td>\n",
       "    </tr>\n",
       "    <tr>\n",
       "      <th>PRG_0001</th>\n",
       "      <td>Centers for Ocean Sciences Education Excellence ~</td>\n",
       "      <td>National Science Foundation</td>\n",
       "      <td>Directorate for Geosciences (GEO)</td>\n",
       "      <td>The Division of Ocean Sciences seeks to establ...</td>\n",
       "      <td>2002</td>\n",
       "      <td>5.24</td>\n",
       "      <td>7.19</td>\n",
       "      <td>5.7</td>\n",
       "      <td>General STEM</td>\n",
       "      <td>NaN</td>\n",
       "      <td>...</td>\n",
       "      <td>NaN</td>\n",
       "      <td>NaN</td>\n",
       "      <td>NaN</td>\n",
       "      <td>NaN</td>\n",
       "      <td>NO</td>\n",
       "      <td>INDEPENDENT</td>\n",
       "      <td>NaN</td>\n",
       "      <td>NaN</td>\n",
       "      <td>INDEPENDENT</td>\n",
       "      <td>NaN</td>\n",
       "    </tr>\n",
       "    <tr>\n",
       "      <th>PRG_0002</th>\n",
       "      <td>Broadening Participation in Computing (BPC)</td>\n",
       "      <td>National Science Foundation</td>\n",
       "      <td>Directorate for Computer &amp; Information Science...</td>\n",
       "      <td>The BPC Program was not primarily aimed at edu...</td>\n",
       "      <td>2006</td>\n",
       "      <td>14</td>\n",
       "      <td>14</td>\n",
       "      <td>14</td>\n",
       "      <td>General STEM</td>\n",
       "      <td>NaN</td>\n",
       "      <td>...</td>\n",
       "      <td>NaN</td>\n",
       "      <td>NaN</td>\n",
       "      <td>NaN</td>\n",
       "      <td>NaN</td>\n",
       "      <td>NO</td>\n",
       "      <td>NaN</td>\n",
       "      <td>NaN</td>\n",
       "      <td>NO</td>\n",
       "      <td>NaN</td>\n",
       "      <td>NaN</td>\n",
       "    </tr>\n",
       "    <tr>\n",
       "      <th>PRG_0003</th>\n",
       "      <td>CISE Pathways to Revitalized Undergraduate Com...</td>\n",
       "      <td>National Science Foundation</td>\n",
       "      <td>Directorate for Computer &amp; Information Science...</td>\n",
       "      <td>Through the CISE Pathways to Revitalized Under...</td>\n",
       "      <td>2007</td>\n",
       "      <td>5</td>\n",
       "      <td>5</td>\n",
       "      <td>4.37</td>\n",
       "      <td>General STEM</td>\n",
       "      <td>NaN</td>\n",
       "      <td>...</td>\n",
       "      <td>NaN</td>\n",
       "      <td>NaN</td>\n",
       "      <td>NaN</td>\n",
       "      <td>NaN</td>\n",
       "      <td>NO</td>\n",
       "      <td>NaN</td>\n",
       "      <td>NaN</td>\n",
       "      <td>NO</td>\n",
       "      <td>NaN</td>\n",
       "      <td>NaN</td>\n",
       "    </tr>\n",
       "    <tr>\n",
       "      <th>PRG_0004</th>\n",
       "      <td>Opportunities for Enhancing Diversity in the G...</td>\n",
       "      <td>National Science Foundation</td>\n",
       "      <td>Directorate for Geosciences (GEO)</td>\n",
       "      <td>The Opportunities for Enhancing Diversity in t...</td>\n",
       "      <td>2002</td>\n",
       "      <td>4.57</td>\n",
       "      <td>11.79</td>\n",
       "      <td>4.18</td>\n",
       "      <td>General STEM</td>\n",
       "      <td>NaN</td>\n",
       "      <td>...</td>\n",
       "      <td>NaN</td>\n",
       "      <td>NO</td>\n",
       "      <td>INDEPENDENT</td>\n",
       "      <td>NaN</td>\n",
       "      <td>NaN</td>\n",
       "      <td>INDEPENDENT</td>\n",
       "      <td>NaN</td>\n",
       "      <td>NaN</td>\n",
       "      <td>INDEPENDENT</td>\n",
       "      <td>NaN</td>\n",
       "    </tr>\n",
       "  </tbody>\n",
       "</table>\n",
       "<p>5 rows × 255 columns</p>\n",
       "</div>"
      ],
      "text/plain": [
       "                                                        PROGRAM  \\\n",
       "Index Number                                    Investment Name   \n",
       "PRG_0001      Centers for Ocean Sciences Education Excellence ~   \n",
       "PRG_0002            Broadening Participation in Computing (BPC)   \n",
       "PRG_0003      CISE Pathways to Revitalized Undergraduate Com...   \n",
       "PRG_0004      Opportunities for Enhancing Diversity in the G...   \n",
       "\n",
       "                               Unnamed: 1  \\\n",
       "Index Number                       Agency   \n",
       "PRG_0001      National Science Foundation   \n",
       "PRG_0002      National Science Foundation   \n",
       "PRG_0003      National Science Foundation   \n",
       "PRG_0004      National Science Foundation   \n",
       "\n",
       "                                                     Unnamed: 2  \\\n",
       "Index Number                                          Subagency   \n",
       "PRG_0001                      Directorate for Geosciences (GEO)   \n",
       "PRG_0002      Directorate for Computer & Information Science...   \n",
       "PRG_0003      Directorate for Computer & Information Science...   \n",
       "PRG_0004                      Directorate for Geosciences (GEO)   \n",
       "\n",
       "                                                     Unnamed: 3  \\\n",
       "Index Number                               A) Brief Description   \n",
       "PRG_0001      The Division of Ocean Sciences seeks to establ...   \n",
       "PRG_0002      The BPC Program was not primarily aimed at edu...   \n",
       "PRG_0003      Through the CISE Pathways to Revitalized Under...   \n",
       "PRG_0004      The Opportunities for Enhancing Diversity in t...   \n",
       "\n",
       "                          FUNDING          Unnamed: 5          Unnamed: 6  \\\n",
       "Index Number  B) Year Established  C1) Funding FY2008  C2) Funding FY2009   \n",
       "PRG_0001                     2002                5.24                7.19   \n",
       "PRG_0002                     2006                  14                  14   \n",
       "PRG_0003                     2007                   5                   5   \n",
       "PRG_0004                     2002                4.57               11.79   \n",
       "\n",
       "                      Unnamed: 7                            Unnamed: 8  \\\n",
       "Index Number  C3) Funding FY2010  D) Mission-specific or General STEM?   \n",
       "PRG_0001                     5.7                          General STEM   \n",
       "PRG_0002                      14                          General STEM   \n",
       "PRG_0003                    4.37                          General STEM   \n",
       "PRG_0004                    4.18                          General STEM   \n",
       "\n",
       "                                                 Unnamed: 9     ...       \\\n",
       "Index Number  E) Agency or Mission-Related Workforce Needs?     ...        \n",
       "PRG_0001                                                NaN     ...        \n",
       "PRG_0002                                                NaN     ...        \n",
       "PRG_0003                                                NaN     ...        \n",
       "PRG_0004                                                NaN     ...        \n",
       "\n",
       "             Unnamed: 245 Unnamed: 246  \\\n",
       "Index Number          NaN          NaN   \n",
       "PRG_0001              NaN          NaN   \n",
       "PRG_0002              NaN          NaN   \n",
       "PRG_0003              NaN          NaN   \n",
       "PRG_0004              NaN           NO   \n",
       "\n",
       "                                               Unnamed: 247 Unnamed: 248  \\\n",
       "Index Number  Y3) Process or Implementation Evaluation Type          NaN   \n",
       "PRG_0001                                                NaN          NaN   \n",
       "PRG_0002                                                NaN          NaN   \n",
       "PRG_0003                                                NaN          NaN   \n",
       "PRG_0004                                        INDEPENDENT          NaN   \n",
       "\n",
       "             Unnamed: 249                          Unnamed: 250 Unnamed: 251  \\\n",
       "Index Number          NaN  Y4) Portfolio Evaluation/Review Type          NaN   \n",
       "PRG_0001               NO                           INDEPENDENT          NaN   \n",
       "PRG_0002               NO                                   NaN          NaN   \n",
       "PRG_0003               NO                                   NaN          NaN   \n",
       "PRG_0004              NaN                           INDEPENDENT          NaN   \n",
       "\n",
       "             Unnamed: 252            Unnamed: 253 Unnamed: 254  \n",
       "Index Number          NaN  Y5) Expert Review Type          NaN  \n",
       "PRG_0001              NaN             INDEPENDENT          NaN  \n",
       "PRG_0002               NO                     NaN          NaN  \n",
       "PRG_0003               NO                     NaN          NaN  \n",
       "PRG_0004              NaN             INDEPENDENT          NaN  \n",
       "\n",
       "[5 rows x 255 columns]"
      ]
     },
     "execution_count": 3,
     "metadata": {},
     "output_type": "execute_result"
    }
   ],
   "source": [
    "data.head()"
   ]
  },
  {
   "cell_type": "markdown",
   "metadata": {},
   "source": [
    "## Calculate % growth of funding between year 2008 & 2009. "
   ]
  },
  {
   "cell_type": "code",
   "execution_count": 4,
   "metadata": {
    "collapsed": false
   },
   "outputs": [],
   "source": [
    "funding_2008=data[\"Unnamed: 5\"].drop(data[\"Unnamed: 5\"].index[[0]]).astype(float)\n"
   ]
  },
  {
   "cell_type": "code",
   "execution_count": 5,
   "metadata": {
    "collapsed": false
   },
   "outputs": [],
   "source": [
    "funding_2009=data[\"Unnamed: 6\"].drop(data[\"Unnamed: 6\"].index[[0]]).astype(float)\n"
   ]
  },
  {
   "cell_type": "code",
   "execution_count": 6,
   "metadata": {
    "collapsed": false
   },
   "outputs": [],
   "source": [
    "sum_of_funding_2008=funding_2008.sum()\n",
    "sum_of_funding_2009=funding_2009.sum()"
   ]
  },
  {
   "cell_type": "markdown",
   "metadata": {},
   "source": [
    "### Total growth of funding between year 2008 & 2009."
   ]
  },
  {
   "cell_type": "code",
   "execution_count": 7,
   "metadata": {
    "collapsed": false
   },
   "outputs": [
    {
     "name": "stdout",
     "output_type": "stream",
     "text": [
      "16.621644717692906\n"
     ]
    }
   ],
   "source": [
    "total_growth=((sum_of_funding_2009-sum_of_funding_2008)/sum_of_funding_2009)*100\n",
    "print(total_growth)\n"
   ]
  },
  {
   "cell_type": "markdown",
   "metadata": {},
   "source": [
    "There has been growth of 16.62% in funding in the year 2019"
   ]
  },
  {
   "cell_type": "markdown",
   "metadata": {},
   "source": [
    "### Growth of funding per Investment Name between year 2008 & 2009 "
   ]
  },
  {
   "cell_type": "code",
   "execution_count": 8,
   "metadata": {
    "collapsed": true
   },
   "outputs": [],
   "source": [
    "growth=((funding_2009-funding_2008)/funding_2009)*100"
   ]
  },
  {
   "cell_type": "code",
   "execution_count": 9,
   "metadata": {
    "collapsed": false
   },
   "outputs": [],
   "source": [
    "Investment_Name=data[\"PROGRAM\"].drop(data[\"PROGRAM\"].index[[0]])"
   ]
  },
  {
   "cell_type": "code",
   "execution_count": 10,
   "metadata": {
    "collapsed": true
   },
   "outputs": [],
   "source": [
    "columns = ['Growth']\n",
    "sub = pd.DataFrame(data=growth, columns=columns)\n",
    "sub['Investment_Name'] =Investment_Name\n",
    "sub = sub[['Investment_Name','Growth',]]\n",
    "sub.to_csv(\"Growth.csv\", index=False)"
   ]
  },
  {
   "cell_type": "code",
   "execution_count": 11,
   "metadata": {
    "collapsed": false
   },
   "outputs": [
    {
     "data": {
      "text/html": [
       "<div>\n",
       "<table border=\"1\" class=\"dataframe\">\n",
       "  <thead>\n",
       "    <tr style=\"text-align: right;\">\n",
       "      <th></th>\n",
       "      <th>Investment_Name</th>\n",
       "      <th>Growth</th>\n",
       "    </tr>\n",
       "  </thead>\n",
       "  <tbody>\n",
       "    <tr>\n",
       "      <th>0</th>\n",
       "      <td>Centers for Ocean Sciences Education Excellence ~</td>\n",
       "      <td>27.121001</td>\n",
       "    </tr>\n",
       "    <tr>\n",
       "      <th>1</th>\n",
       "      <td>Broadening Participation in Computing (BPC)</td>\n",
       "      <td>0.000000</td>\n",
       "    </tr>\n",
       "    <tr>\n",
       "      <th>2</th>\n",
       "      <td>CISE Pathways to Revitalized Undergraduate Com...</td>\n",
       "      <td>0.000000</td>\n",
       "    </tr>\n",
       "    <tr>\n",
       "      <th>3</th>\n",
       "      <td>Opportunities for Enhancing Diversity in the G...</td>\n",
       "      <td>61.238338</td>\n",
       "    </tr>\n",
       "    <tr>\n",
       "      <th>4</th>\n",
       "      <td>Geoscience Education</td>\n",
       "      <td>40.510949</td>\n",
       "    </tr>\n",
       "  </tbody>\n",
       "</table>\n",
       "</div>"
      ],
      "text/plain": [
       "                                     Investment_Name     Growth\n",
       "0  Centers for Ocean Sciences Education Excellence ~  27.121001\n",
       "1        Broadening Participation in Computing (BPC)   0.000000\n",
       "2  CISE Pathways to Revitalized Undergraduate Com...   0.000000\n",
       "3  Opportunities for Enhancing Diversity in the G...  61.238338\n",
       "4                               Geoscience Education  40.510949"
      ]
     },
     "execution_count": 11,
     "metadata": {},
     "output_type": "execute_result"
    }
   ],
   "source": [
    "growthcsv= pd.read_csv(\"growth.csv\")\n",
    "growthcsv.head()"
   ]
  },
  {
   "cell_type": "markdown",
   "metadata": {},
   "source": [
    "## Creating target variable"
   ]
  },
  {
   "cell_type": "code",
   "execution_count": 12,
   "metadata": {
    "collapsed": false
   },
   "outputs": [],
   "source": [
    "target=growth"
   ]
  },
  {
   "cell_type": "code",
   "execution_count": 13,
   "metadata": {
    "collapsed": false
   },
   "outputs": [],
   "source": [
    "target[target >= 0]=1\n",
    "target[target < 0]=0"
   ]
  },
  {
   "cell_type": "code",
   "execution_count": 14,
   "metadata": {
    "collapsed": false
   },
   "outputs": [
    {
     "data": {
      "text/plain": [
       "PRG_0001    1.0\n",
       "PRG_0002    1.0\n",
       "PRG_0003    1.0\n",
       "PRG_0004    1.0\n",
       "PRG_0005    1.0\n",
       "PRG_0006    1.0\n",
       "PRG_0007    1.0\n",
       "PRG_0008    1.0\n",
       "PRG_0009    1.0\n",
       "PRG_0010    1.0\n",
       "PRG_0012    0.0\n",
       "PRG_0013    0.0\n",
       "PRG_0014    1.0\n",
       "PRG_0015    1.0\n",
       "PRG_0016    1.0\n",
       "PRG_0017    0.0\n",
       "PRG_0018    1.0\n",
       "PRG_0019    1.0\n",
       "PRG_0020    1.0\n",
       "PRG_0021    1.0\n",
       "dtype: float64"
      ]
     },
     "execution_count": 14,
     "metadata": {},
     "output_type": "execute_result"
    }
   ],
   "source": [
    "target.head(20)"
   ]
  },
  {
   "cell_type": "code",
   "execution_count": 15,
   "metadata": {
    "collapsed": true
   },
   "outputs": [],
   "source": [
    "data[\"target variable\"]=target"
   ]
  },
  {
   "cell_type": "code",
   "execution_count": 16,
   "metadata": {
    "collapsed": false
   },
   "outputs": [
    {
     "data": {
      "text/html": [
       "<div>\n",
       "<table border=\"1\" class=\"dataframe\">\n",
       "  <thead>\n",
       "    <tr style=\"text-align: right;\">\n",
       "      <th></th>\n",
       "      <th>PROGRAM</th>\n",
       "      <th>Unnamed: 1</th>\n",
       "      <th>Unnamed: 2</th>\n",
       "      <th>Unnamed: 3</th>\n",
       "      <th>FUNDING</th>\n",
       "      <th>Unnamed: 5</th>\n",
       "      <th>Unnamed: 6</th>\n",
       "      <th>Unnamed: 7</th>\n",
       "      <th>Unnamed: 8</th>\n",
       "      <th>Unnamed: 9</th>\n",
       "      <th>...</th>\n",
       "      <th>Unnamed: 246</th>\n",
       "      <th>Unnamed: 247</th>\n",
       "      <th>Unnamed: 248</th>\n",
       "      <th>Unnamed: 249</th>\n",
       "      <th>Unnamed: 250</th>\n",
       "      <th>Unnamed: 251</th>\n",
       "      <th>Unnamed: 252</th>\n",
       "      <th>Unnamed: 253</th>\n",
       "      <th>Unnamed: 254</th>\n",
       "      <th>target variable</th>\n",
       "    </tr>\n",
       "  </thead>\n",
       "  <tbody>\n",
       "    <tr>\n",
       "      <th>Index Number</th>\n",
       "      <td>Investment Name</td>\n",
       "      <td>Agency</td>\n",
       "      <td>Subagency</td>\n",
       "      <td>A) Brief Description</td>\n",
       "      <td>B) Year Established</td>\n",
       "      <td>C1) Funding FY2008</td>\n",
       "      <td>C2) Funding FY2009</td>\n",
       "      <td>C3) Funding FY2010</td>\n",
       "      <td>D) Mission-specific or General STEM?</td>\n",
       "      <td>E) Agency or Mission-Related Workforce Needs?</td>\n",
       "      <td>...</td>\n",
       "      <td>NaN</td>\n",
       "      <td>Y3) Process or Implementation Evaluation Type</td>\n",
       "      <td>NaN</td>\n",
       "      <td>NaN</td>\n",
       "      <td>Y4) Portfolio Evaluation/Review Type</td>\n",
       "      <td>NaN</td>\n",
       "      <td>NaN</td>\n",
       "      <td>Y5) Expert Review Type</td>\n",
       "      <td>NaN</td>\n",
       "      <td>NaN</td>\n",
       "    </tr>\n",
       "    <tr>\n",
       "      <th>PRG_0001</th>\n",
       "      <td>Centers for Ocean Sciences Education Excellence ~</td>\n",
       "      <td>National Science Foundation</td>\n",
       "      <td>Directorate for Geosciences (GEO)</td>\n",
       "      <td>The Division of Ocean Sciences seeks to establ...</td>\n",
       "      <td>2002</td>\n",
       "      <td>5.24</td>\n",
       "      <td>7.19</td>\n",
       "      <td>5.7</td>\n",
       "      <td>General STEM</td>\n",
       "      <td>NaN</td>\n",
       "      <td>...</td>\n",
       "      <td>NaN</td>\n",
       "      <td>NaN</td>\n",
       "      <td>NaN</td>\n",
       "      <td>NO</td>\n",
       "      <td>INDEPENDENT</td>\n",
       "      <td>NaN</td>\n",
       "      <td>NaN</td>\n",
       "      <td>INDEPENDENT</td>\n",
       "      <td>NaN</td>\n",
       "      <td>1.0</td>\n",
       "    </tr>\n",
       "    <tr>\n",
       "      <th>PRG_0002</th>\n",
       "      <td>Broadening Participation in Computing (BPC)</td>\n",
       "      <td>National Science Foundation</td>\n",
       "      <td>Directorate for Computer &amp; Information Science...</td>\n",
       "      <td>The BPC Program was not primarily aimed at edu...</td>\n",
       "      <td>2006</td>\n",
       "      <td>14</td>\n",
       "      <td>14</td>\n",
       "      <td>14</td>\n",
       "      <td>General STEM</td>\n",
       "      <td>NaN</td>\n",
       "      <td>...</td>\n",
       "      <td>NaN</td>\n",
       "      <td>NaN</td>\n",
       "      <td>NaN</td>\n",
       "      <td>NO</td>\n",
       "      <td>NaN</td>\n",
       "      <td>NaN</td>\n",
       "      <td>NO</td>\n",
       "      <td>NaN</td>\n",
       "      <td>NaN</td>\n",
       "      <td>1.0</td>\n",
       "    </tr>\n",
       "    <tr>\n",
       "      <th>PRG_0003</th>\n",
       "      <td>CISE Pathways to Revitalized Undergraduate Com...</td>\n",
       "      <td>National Science Foundation</td>\n",
       "      <td>Directorate for Computer &amp; Information Science...</td>\n",
       "      <td>Through the CISE Pathways to Revitalized Under...</td>\n",
       "      <td>2007</td>\n",
       "      <td>5</td>\n",
       "      <td>5</td>\n",
       "      <td>4.37</td>\n",
       "      <td>General STEM</td>\n",
       "      <td>NaN</td>\n",
       "      <td>...</td>\n",
       "      <td>NaN</td>\n",
       "      <td>NaN</td>\n",
       "      <td>NaN</td>\n",
       "      <td>NO</td>\n",
       "      <td>NaN</td>\n",
       "      <td>NaN</td>\n",
       "      <td>NO</td>\n",
       "      <td>NaN</td>\n",
       "      <td>NaN</td>\n",
       "      <td>1.0</td>\n",
       "    </tr>\n",
       "    <tr>\n",
       "      <th>PRG_0004</th>\n",
       "      <td>Opportunities for Enhancing Diversity in the G...</td>\n",
       "      <td>National Science Foundation</td>\n",
       "      <td>Directorate for Geosciences (GEO)</td>\n",
       "      <td>The Opportunities for Enhancing Diversity in t...</td>\n",
       "      <td>2002</td>\n",
       "      <td>4.57</td>\n",
       "      <td>11.79</td>\n",
       "      <td>4.18</td>\n",
       "      <td>General STEM</td>\n",
       "      <td>NaN</td>\n",
       "      <td>...</td>\n",
       "      <td>NO</td>\n",
       "      <td>INDEPENDENT</td>\n",
       "      <td>NaN</td>\n",
       "      <td>NaN</td>\n",
       "      <td>INDEPENDENT</td>\n",
       "      <td>NaN</td>\n",
       "      <td>NaN</td>\n",
       "      <td>INDEPENDENT</td>\n",
       "      <td>NaN</td>\n",
       "      <td>1.0</td>\n",
       "    </tr>\n",
       "  </tbody>\n",
       "</table>\n",
       "<p>5 rows × 256 columns</p>\n",
       "</div>"
      ],
      "text/plain": [
       "                                                        PROGRAM  \\\n",
       "Index Number                                    Investment Name   \n",
       "PRG_0001      Centers for Ocean Sciences Education Excellence ~   \n",
       "PRG_0002            Broadening Participation in Computing (BPC)   \n",
       "PRG_0003      CISE Pathways to Revitalized Undergraduate Com...   \n",
       "PRG_0004      Opportunities for Enhancing Diversity in the G...   \n",
       "\n",
       "                               Unnamed: 1  \\\n",
       "Index Number                       Agency   \n",
       "PRG_0001      National Science Foundation   \n",
       "PRG_0002      National Science Foundation   \n",
       "PRG_0003      National Science Foundation   \n",
       "PRG_0004      National Science Foundation   \n",
       "\n",
       "                                                     Unnamed: 2  \\\n",
       "Index Number                                          Subagency   \n",
       "PRG_0001                      Directorate for Geosciences (GEO)   \n",
       "PRG_0002      Directorate for Computer & Information Science...   \n",
       "PRG_0003      Directorate for Computer & Information Science...   \n",
       "PRG_0004                      Directorate for Geosciences (GEO)   \n",
       "\n",
       "                                                     Unnamed: 3  \\\n",
       "Index Number                               A) Brief Description   \n",
       "PRG_0001      The Division of Ocean Sciences seeks to establ...   \n",
       "PRG_0002      The BPC Program was not primarily aimed at edu...   \n",
       "PRG_0003      Through the CISE Pathways to Revitalized Under...   \n",
       "PRG_0004      The Opportunities for Enhancing Diversity in t...   \n",
       "\n",
       "                          FUNDING          Unnamed: 5          Unnamed: 6  \\\n",
       "Index Number  B) Year Established  C1) Funding FY2008  C2) Funding FY2009   \n",
       "PRG_0001                     2002                5.24                7.19   \n",
       "PRG_0002                     2006                  14                  14   \n",
       "PRG_0003                     2007                   5                   5   \n",
       "PRG_0004                     2002                4.57               11.79   \n",
       "\n",
       "                      Unnamed: 7                            Unnamed: 8  \\\n",
       "Index Number  C3) Funding FY2010  D) Mission-specific or General STEM?   \n",
       "PRG_0001                     5.7                          General STEM   \n",
       "PRG_0002                      14                          General STEM   \n",
       "PRG_0003                    4.37                          General STEM   \n",
       "PRG_0004                    4.18                          General STEM   \n",
       "\n",
       "                                                 Unnamed: 9       ...        \\\n",
       "Index Number  E) Agency or Mission-Related Workforce Needs?       ...         \n",
       "PRG_0001                                                NaN       ...         \n",
       "PRG_0002                                                NaN       ...         \n",
       "PRG_0003                                                NaN       ...         \n",
       "PRG_0004                                                NaN       ...         \n",
       "\n",
       "             Unnamed: 246                                   Unnamed: 247  \\\n",
       "Index Number          NaN  Y3) Process or Implementation Evaluation Type   \n",
       "PRG_0001              NaN                                            NaN   \n",
       "PRG_0002              NaN                                            NaN   \n",
       "PRG_0003              NaN                                            NaN   \n",
       "PRG_0004               NO                                    INDEPENDENT   \n",
       "\n",
       "             Unnamed: 248 Unnamed: 249                          Unnamed: 250  \\\n",
       "Index Number          NaN          NaN  Y4) Portfolio Evaluation/Review Type   \n",
       "PRG_0001              NaN           NO                           INDEPENDENT   \n",
       "PRG_0002              NaN           NO                                   NaN   \n",
       "PRG_0003              NaN           NO                                   NaN   \n",
       "PRG_0004              NaN          NaN                           INDEPENDENT   \n",
       "\n",
       "             Unnamed: 251 Unnamed: 252            Unnamed: 253 Unnamed: 254  \\\n",
       "Index Number          NaN          NaN  Y5) Expert Review Type          NaN   \n",
       "PRG_0001              NaN          NaN             INDEPENDENT          NaN   \n",
       "PRG_0002              NaN           NO                     NaN          NaN   \n",
       "PRG_0003              NaN           NO                     NaN          NaN   \n",
       "PRG_0004              NaN          NaN             INDEPENDENT          NaN   \n",
       "\n",
       "             target variable  \n",
       "Index Number             NaN  \n",
       "PRG_0001                 1.0  \n",
       "PRG_0002                 1.0  \n",
       "PRG_0003                 1.0  \n",
       "PRG_0004                 1.0  \n",
       "\n",
       "[5 rows x 256 columns]"
      ]
     },
     "execution_count": 16,
     "metadata": {},
     "output_type": "execute_result"
    }
   ],
   "source": [
    "data.head()"
   ]
  },
  {
   "cell_type": "markdown",
   "metadata": {},
   "source": [
    "## graphs of univariate distribution of all non funding variables "
   ]
  },
  {
   "cell_type": "markdown",
   "metadata": {},
   "source": [
    "since there are some missing values in the funding data. so we cannot take missing data as non funding investment  "
   ]
  },
  {
   "cell_type": "code",
   "execution_count": 17,
   "metadata": {
    "collapsed": true
   },
   "outputs": [],
   "source": [
    "data[\"Unnamed: 5\"].fillna(-1, inplace=True)\n",
    "data[\"Unnamed: 6\"].fillna(-1, inplace=True)\n",
    "data[\"Unnamed: 7\"].fillna(-1, inplace=True)"
   ]
  },
  {
   "cell_type": "markdown",
   "metadata": {},
   "source": [
    "so missing values are replced by -1"
   ]
  },
  {
   "cell_type": "code",
   "execution_count": 18,
   "metadata": {
    "collapsed": true
   },
   "outputs": [],
   "source": [
    "FY2008=data[\"Unnamed: 5\"].drop(data[\"Unnamed: 5\"].index[[0]]).astype(float)\n",
    "FY2009=data[\"Unnamed: 6\"].drop(data[\"Unnamed: 6\"].index[[0]]).astype(float)\n",
    "FY2010=data[\"Unnamed: 7\"].drop(data[\"Unnamed: 7\"].index[[0]]).astype(float)"
   ]
  },
  {
   "cell_type": "code",
   "execution_count": 19,
   "metadata": {
    "collapsed": true
   },
   "outputs": [],
   "source": [
    "non_funding_2008=len(FY2008)-np.count_nonzero(FY2008)\n",
    "non_funding_2009=len(FY2009)-np.count_nonzero(FY2009)\n",
    "non_funding_2010=len(FY2010)-np.count_nonzero(FY2010)"
   ]
  },
  {
   "cell_type": "markdown",
   "metadata": {},
   "source": [
    "np.count_nonzero() finds the number of non zero values in array"
   ]
  },
  {
   "cell_type": "code",
   "execution_count": 20,
   "metadata": {
    "collapsed": false
   },
   "outputs": [],
   "source": [
    "import matplotlib.pyplot as plt"
   ]
  },
  {
   "cell_type": "code",
   "execution_count": 21,
   "metadata": {
    "collapsed": false
   },
   "outputs": [
    {
     "data": {
      "image/png": "[encoded data removed]",
      "text/plain": [
       "<matplotlib.figure.Figure at 0x2448ce4ecf8>"
      ]
     },
     "metadata": {},
     "output_type": "display_data"
    }
   ],
   "source": [
    "x=[\"2008\",\"2009\",\"2010\"]\n",
    "y=[non_funding_2008,non_funding_2009,non_funding_2010]\n",
    "y_pos=np.arange(len(x))\n",
    "plt.bar(y_pos,y,align=\"center\",alpha=0.5)\n",
    "plt.xticks(y_pos,x)\n",
    "plt.xlabel(\"Funding in each years\")\n",
    "plt.ylabel(\"No. of non funding Investment\")\n",
    "plt.title(\"Graph of non funding in each year\")\n",
    "plt.show()"
   ]
  },
  {
   "cell_type": "markdown",
   "metadata": {},
   "source": [
    "## mutual_info_score "
   ]
  },
  {
   "cell_type": "code",
   "execution_count": 22,
   "metadata": {
    "collapsed": false
   },
   "outputs": [],
   "source": [
    "from sklearn.metrics import mutual_info_score"
   ]
  },
  {
   "cell_type": "code",
   "execution_count": 23,
   "metadata": {
    "collapsed": false
   },
   "outputs": [
    {
     "data": {
      "text/plain": [
       "0.82895796326463156"
      ]
     },
     "execution_count": 23,
     "metadata": {},
     "output_type": "execute_result"
    }
   ],
   "source": [
    "sklearn.metrics.mutual_info_score(target,FY2008, contingency=None)"
   ]
  },
  {
   "cell_type": "markdown",
   "metadata": {},
   "source": [
    " mutual_info_score of target variable and funding in 2008"
   ]
  },
  {
   "cell_type": "code",
   "execution_count": 24,
   "metadata": {
    "collapsed": false
   },
   "outputs": [
    {
     "data": {
      "text/plain": [
       "1.0353340757857468"
      ]
     },
     "execution_count": 24,
     "metadata": {},
     "output_type": "execute_result"
    }
   ],
   "source": [
    "sklearn.metrics.mutual_info_score(target,FY2009, contingency=None)"
   ]
  },
  {
   "cell_type": "markdown",
   "metadata": {},
   "source": [
    " mutual_info_score of target variable and funding in 2009"
   ]
  },
  {
   "cell_type": "code",
   "execution_count": 25,
   "metadata": {
    "collapsed": false
   },
   "outputs": [
    {
     "data": {
      "text/plain": [
       "1.1078519259197717"
      ]
     },
     "execution_count": 25,
     "metadata": {},
     "output_type": "execute_result"
    }
   ],
   "source": [
    "sklearn.metrics.mutual_info_score(target,FY2010, contingency=None)"
   ]
  },
  {
   "cell_type": "markdown",
   "metadata": {},
   "source": [
    " mutual_info_score of target variable and funding in 2010"
   ]
  },
  {
   "cell_type": "markdown",
   "metadata": {},
   "source": [
    "## Divide data into train & test samples"
   ]
  },
  {
   "cell_type": "code",
   "execution_count": 26,
   "metadata": {
    "collapsed": false
   },
   "outputs": [],
   "source": [
    "data = pd.read_excel(\"2010 Federal STEM Education Inventory Data Set.xls\").reset_index(drop=True)"
   ]
  },
  {
   "cell_type": "code",
   "execution_count": 27,
   "metadata": {
    "collapsed": false
   },
   "outputs": [
    {
     "data": {
      "text/html": [
       "<div>\n",
       "<table border=\"1\" class=\"dataframe\">\n",
       "  <thead>\n",
       "    <tr style=\"text-align: right;\">\n",
       "      <th></th>\n",
       "      <th>PROGRAM</th>\n",
       "      <th>Unnamed: 1</th>\n",
       "      <th>Unnamed: 2</th>\n",
       "      <th>Unnamed: 3</th>\n",
       "      <th>FUNDING</th>\n",
       "      <th>Unnamed: 5</th>\n",
       "      <th>Unnamed: 6</th>\n",
       "      <th>Unnamed: 7</th>\n",
       "      <th>Unnamed: 8</th>\n",
       "      <th>Unnamed: 9</th>\n",
       "      <th>...</th>\n",
       "      <th>Unnamed: 245</th>\n",
       "      <th>Unnamed: 246</th>\n",
       "      <th>Unnamed: 247</th>\n",
       "      <th>Unnamed: 248</th>\n",
       "      <th>Unnamed: 249</th>\n",
       "      <th>Unnamed: 250</th>\n",
       "      <th>Unnamed: 251</th>\n",
       "      <th>Unnamed: 252</th>\n",
       "      <th>Unnamed: 253</th>\n",
       "      <th>Unnamed: 254</th>\n",
       "    </tr>\n",
       "  </thead>\n",
       "  <tbody>\n",
       "    <tr>\n",
       "      <th>0</th>\n",
       "      <td>Investment Name</td>\n",
       "      <td>Agency</td>\n",
       "      <td>Subagency</td>\n",
       "      <td>A) Brief Description</td>\n",
       "      <td>B) Year Established</td>\n",
       "      <td>C1) Funding FY2008</td>\n",
       "      <td>C2) Funding FY2009</td>\n",
       "      <td>C3) Funding FY2010</td>\n",
       "      <td>D) Mission-specific or General STEM?</td>\n",
       "      <td>E) Agency or Mission-Related Workforce Needs?</td>\n",
       "      <td>...</td>\n",
       "      <td>NaN</td>\n",
       "      <td>NaN</td>\n",
       "      <td>Y3) Process or Implementation Evaluation Type</td>\n",
       "      <td>NaN</td>\n",
       "      <td>NaN</td>\n",
       "      <td>Y4) Portfolio Evaluation/Review Type</td>\n",
       "      <td>NaN</td>\n",
       "      <td>NaN</td>\n",
       "      <td>Y5) Expert Review Type</td>\n",
       "      <td>NaN</td>\n",
       "    </tr>\n",
       "    <tr>\n",
       "      <th>1</th>\n",
       "      <td>Centers for Ocean Sciences Education Excellence ~</td>\n",
       "      <td>National Science Foundation</td>\n",
       "      <td>Directorate for Geosciences (GEO)</td>\n",
       "      <td>The Division of Ocean Sciences seeks to establ...</td>\n",
       "      <td>2002</td>\n",
       "      <td>5.24</td>\n",
       "      <td>7.19</td>\n",
       "      <td>5.7</td>\n",
       "      <td>General STEM</td>\n",
       "      <td>NaN</td>\n",
       "      <td>...</td>\n",
       "      <td>NaN</td>\n",
       "      <td>NaN</td>\n",
       "      <td>NaN</td>\n",
       "      <td>NaN</td>\n",
       "      <td>NO</td>\n",
       "      <td>INDEPENDENT</td>\n",
       "      <td>NaN</td>\n",
       "      <td>NaN</td>\n",
       "      <td>INDEPENDENT</td>\n",
       "      <td>NaN</td>\n",
       "    </tr>\n",
       "    <tr>\n",
       "      <th>2</th>\n",
       "      <td>Broadening Participation in Computing (BPC)</td>\n",
       "      <td>National Science Foundation</td>\n",
       "      <td>Directorate for Computer &amp; Information Science...</td>\n",
       "      <td>The BPC Program was not primarily aimed at edu...</td>\n",
       "      <td>2006</td>\n",
       "      <td>14</td>\n",
       "      <td>14</td>\n",
       "      <td>14</td>\n",
       "      <td>General STEM</td>\n",
       "      <td>NaN</td>\n",
       "      <td>...</td>\n",
       "      <td>NaN</td>\n",
       "      <td>NaN</td>\n",
       "      <td>NaN</td>\n",
       "      <td>NaN</td>\n",
       "      <td>NO</td>\n",
       "      <td>NaN</td>\n",
       "      <td>NaN</td>\n",
       "      <td>NO</td>\n",
       "      <td>NaN</td>\n",
       "      <td>NaN</td>\n",
       "    </tr>\n",
       "    <tr>\n",
       "      <th>3</th>\n",
       "      <td>CISE Pathways to Revitalized Undergraduate Com...</td>\n",
       "      <td>National Science Foundation</td>\n",
       "      <td>Directorate for Computer &amp; Information Science...</td>\n",
       "      <td>Through the CISE Pathways to Revitalized Under...</td>\n",
       "      <td>2007</td>\n",
       "      <td>5</td>\n",
       "      <td>5</td>\n",
       "      <td>4.37</td>\n",
       "      <td>General STEM</td>\n",
       "      <td>NaN</td>\n",
       "      <td>...</td>\n",
       "      <td>NaN</td>\n",
       "      <td>NaN</td>\n",
       "      <td>NaN</td>\n",
       "      <td>NaN</td>\n",
       "      <td>NO</td>\n",
       "      <td>NaN</td>\n",
       "      <td>NaN</td>\n",
       "      <td>NO</td>\n",
       "      <td>NaN</td>\n",
       "      <td>NaN</td>\n",
       "    </tr>\n",
       "    <tr>\n",
       "      <th>4</th>\n",
       "      <td>Opportunities for Enhancing Diversity in the G...</td>\n",
       "      <td>National Science Foundation</td>\n",
       "      <td>Directorate for Geosciences (GEO)</td>\n",
       "      <td>The Opportunities for Enhancing Diversity in t...</td>\n",
       "      <td>2002</td>\n",
       "      <td>4.57</td>\n",
       "      <td>11.79</td>\n",
       "      <td>4.18</td>\n",
       "      <td>General STEM</td>\n",
       "      <td>NaN</td>\n",
       "      <td>...</td>\n",
       "      <td>NaN</td>\n",
       "      <td>NO</td>\n",
       "      <td>INDEPENDENT</td>\n",
       "      <td>NaN</td>\n",
       "      <td>NaN</td>\n",
       "      <td>INDEPENDENT</td>\n",
       "      <td>NaN</td>\n",
       "      <td>NaN</td>\n",
       "      <td>INDEPENDENT</td>\n",
       "      <td>NaN</td>\n",
       "    </tr>\n",
       "  </tbody>\n",
       "</table>\n",
       "<p>5 rows × 255 columns</p>\n",
       "</div>"
      ],
      "text/plain": [
       "                                             PROGRAM  \\\n",
       "0                                    Investment Name   \n",
       "1  Centers for Ocean Sciences Education Excellence ~   \n",
       "2        Broadening Participation in Computing (BPC)   \n",
       "3  CISE Pathways to Revitalized Undergraduate Com...   \n",
       "4  Opportunities for Enhancing Diversity in the G...   \n",
       "\n",
       "                    Unnamed: 1  \\\n",
       "0                       Agency   \n",
       "1  National Science Foundation   \n",
       "2  National Science Foundation   \n",
       "3  National Science Foundation   \n",
       "4  National Science Foundation   \n",
       "\n",
       "                                          Unnamed: 2  \\\n",
       "0                                          Subagency   \n",
       "1                  Directorate for Geosciences (GEO)   \n",
       "2  Directorate for Computer & Information Science...   \n",
       "3  Directorate for Computer & Information Science...   \n",
       "4                  Directorate for Geosciences (GEO)   \n",
       "\n",
       "                                          Unnamed: 3              FUNDING  \\\n",
       "0                               A) Brief Description  B) Year Established   \n",
       "1  The Division of Ocean Sciences seeks to establ...                 2002   \n",
       "2  The BPC Program was not primarily aimed at edu...                 2006   \n",
       "3  Through the CISE Pathways to Revitalized Under...                 2007   \n",
       "4  The Opportunities for Enhancing Diversity in t...                 2002   \n",
       "\n",
       "           Unnamed: 5          Unnamed: 6          Unnamed: 7  \\\n",
       "0  C1) Funding FY2008  C2) Funding FY2009  C3) Funding FY2010   \n",
       "1                5.24                7.19                 5.7   \n",
       "2                  14                  14                  14   \n",
       "3                   5                   5                4.37   \n",
       "4                4.57               11.79                4.18   \n",
       "\n",
       "                             Unnamed: 8  \\\n",
       "0  D) Mission-specific or General STEM?   \n",
       "1                          General STEM   \n",
       "2                          General STEM   \n",
       "3                          General STEM   \n",
       "4                          General STEM   \n",
       "\n",
       "                                      Unnamed: 9     ...      Unnamed: 245  \\\n",
       "0  E) Agency or Mission-Related Workforce Needs?     ...               NaN   \n",
       "1                                            NaN     ...               NaN   \n",
       "2                                            NaN     ...               NaN   \n",
       "3                                            NaN     ...               NaN   \n",
       "4                                            NaN     ...               NaN   \n",
       "\n",
       "  Unnamed: 246                                   Unnamed: 247 Unnamed: 248  \\\n",
       "0          NaN  Y3) Process or Implementation Evaluation Type          NaN   \n",
       "1          NaN                                            NaN          NaN   \n",
       "2          NaN                                            NaN          NaN   \n",
       "3          NaN                                            NaN          NaN   \n",
       "4           NO                                    INDEPENDENT          NaN   \n",
       "\n",
       "  Unnamed: 249                          Unnamed: 250 Unnamed: 251  \\\n",
       "0          NaN  Y4) Portfolio Evaluation/Review Type          NaN   \n",
       "1           NO                           INDEPENDENT          NaN   \n",
       "2           NO                                   NaN          NaN   \n",
       "3           NO                                   NaN          NaN   \n",
       "4          NaN                           INDEPENDENT          NaN   \n",
       "\n",
       "  Unnamed: 252            Unnamed: 253 Unnamed: 254  \n",
       "0          NaN  Y5) Expert Review Type          NaN  \n",
       "1          NaN             INDEPENDENT          NaN  \n",
       "2           NO                     NaN          NaN  \n",
       "3           NO                     NaN          NaN  \n",
       "4          NaN             INDEPENDENT          NaN  \n",
       "\n",
       "[5 rows x 255 columns]"
      ]
     },
     "execution_count": 27,
     "metadata": {},
     "output_type": "execute_result"
    }
   ],
   "source": [
    "data.head()"
   ]
  },
  {
   "cell_type": "code",
   "execution_count": 28,
   "metadata": {
    "collapsed": true
   },
   "outputs": [],
   "source": [
    "data=data.filter(items=[\"PROGRAM\",\"Unnamed: 1\",\"Unnamed: 2\",\"FUNDING\",\"Unnamed: 5\",\"Unnamed: 6\",\"Unnamed: 7\",\"Unnamed: 8\",\"Unnamed:10\"])"
   ]
  },
  {
   "cell_type": "markdown",
   "metadata": {},
   "source": [
    "selecting features for buliding models"
   ]
  },
  {
   "cell_type": "code",
   "execution_count": 29,
   "metadata": {
    "collapsed": false
   },
   "outputs": [
    {
     "data": {
      "text/html": [
       "<div>\n",
       "<table border=\"1\" class=\"dataframe\">\n",
       "  <thead>\n",
       "    <tr style=\"text-align: right;\">\n",
       "      <th></th>\n",
       "      <th>PROGRAM</th>\n",
       "      <th>Unnamed: 1</th>\n",
       "      <th>Unnamed: 2</th>\n",
       "      <th>FUNDING</th>\n",
       "      <th>Unnamed: 5</th>\n",
       "      <th>Unnamed: 6</th>\n",
       "      <th>Unnamed: 7</th>\n",
       "      <th>Unnamed: 8</th>\n",
       "    </tr>\n",
       "  </thead>\n",
       "  <tbody>\n",
       "    <tr>\n",
       "      <th>0</th>\n",
       "      <td>Investment Name</td>\n",
       "      <td>Agency</td>\n",
       "      <td>Subagency</td>\n",
       "      <td>B) Year Established</td>\n",
       "      <td>C1) Funding FY2008</td>\n",
       "      <td>C2) Funding FY2009</td>\n",
       "      <td>C3) Funding FY2010</td>\n",
       "      <td>D) Mission-specific or General STEM?</td>\n",
       "    </tr>\n",
       "    <tr>\n",
       "      <th>1</th>\n",
       "      <td>Centers for Ocean Sciences Education Excellence ~</td>\n",
       "      <td>National Science Foundation</td>\n",
       "      <td>Directorate for Geosciences (GEO)</td>\n",
       "      <td>2002</td>\n",
       "      <td>5.24</td>\n",
       "      <td>7.19</td>\n",
       "      <td>5.7</td>\n",
       "      <td>General STEM</td>\n",
       "    </tr>\n",
       "    <tr>\n",
       "      <th>2</th>\n",
       "      <td>Broadening Participation in Computing (BPC)</td>\n",
       "      <td>National Science Foundation</td>\n",
       "      <td>Directorate for Computer &amp; Information Science...</td>\n",
       "      <td>2006</td>\n",
       "      <td>14</td>\n",
       "      <td>14</td>\n",
       "      <td>14</td>\n",
       "      <td>General STEM</td>\n",
       "    </tr>\n",
       "    <tr>\n",
       "      <th>3</th>\n",
       "      <td>CISE Pathways to Revitalized Undergraduate Com...</td>\n",
       "      <td>National Science Foundation</td>\n",
       "      <td>Directorate for Computer &amp; Information Science...</td>\n",
       "      <td>2007</td>\n",
       "      <td>5</td>\n",
       "      <td>5</td>\n",
       "      <td>4.37</td>\n",
       "      <td>General STEM</td>\n",
       "    </tr>\n",
       "    <tr>\n",
       "      <th>4</th>\n",
       "      <td>Opportunities for Enhancing Diversity in the G...</td>\n",
       "      <td>National Science Foundation</td>\n",
       "      <td>Directorate for Geosciences (GEO)</td>\n",
       "      <td>2002</td>\n",
       "      <td>4.57</td>\n",
       "      <td>11.79</td>\n",
       "      <td>4.18</td>\n",
       "      <td>General STEM</td>\n",
       "    </tr>\n",
       "  </tbody>\n",
       "</table>\n",
       "</div>"
      ],
      "text/plain": [
       "                                             PROGRAM  \\\n",
       "0                                    Investment Name   \n",
       "1  Centers for Ocean Sciences Education Excellence ~   \n",
       "2        Broadening Participation in Computing (BPC)   \n",
       "3  CISE Pathways to Revitalized Undergraduate Com...   \n",
       "4  Opportunities for Enhancing Diversity in the G...   \n",
       "\n",
       "                    Unnamed: 1  \\\n",
       "0                       Agency   \n",
       "1  National Science Foundation   \n",
       "2  National Science Foundation   \n",
       "3  National Science Foundation   \n",
       "4  National Science Foundation   \n",
       "\n",
       "                                          Unnamed: 2              FUNDING  \\\n",
       "0                                          Subagency  B) Year Established   \n",
       "1                  Directorate for Geosciences (GEO)                 2002   \n",
       "2  Directorate for Computer & Information Science...                 2006   \n",
       "3  Directorate for Computer & Information Science...                 2007   \n",
       "4                  Directorate for Geosciences (GEO)                 2002   \n",
       "\n",
       "           Unnamed: 5          Unnamed: 6          Unnamed: 7  \\\n",
       "0  C1) Funding FY2008  C2) Funding FY2009  C3) Funding FY2010   \n",
       "1                5.24                7.19                 5.7   \n",
       "2                  14                  14                  14   \n",
       "3                   5                   5                4.37   \n",
       "4                4.57               11.79                4.18   \n",
       "\n",
       "                             Unnamed: 8  \n",
       "0  D) Mission-specific or General STEM?  \n",
       "1                          General STEM  \n",
       "2                          General STEM  \n",
       "3                          General STEM  \n",
       "4                          General STEM  "
      ]
     },
     "execution_count": 29,
     "metadata": {},
     "output_type": "execute_result"
    }
   ],
   "source": [
    "data.head()"
   ]
  },
  {
   "cell_type": "code",
   "execution_count": 30,
   "metadata": {
    "collapsed": false
   },
   "outputs": [],
   "source": [
    "data=data.rename(index=str, columns={\"PROGRAM\": \"Investment Name\", \"Unnamed: 1\": \"Agency\",\"Unnamed: 2\": \"Subagency\", \"FUNDING\": \"Year Established\",\"Unnamed: 5\": \"Funding FY2008\", \"Unnamed: 6\": \"Funding FY2009\",\"Unnamed: 7\": \"Funding FY2010\", \"Unnamed: 8\": \"Mission-specific or General STEM?\"})\n",
    "data=data.drop(data.index[[0]])"
   ]
  },
  {
   "cell_type": "code",
   "execution_count": 31,
   "metadata": {
    "collapsed": false
   },
   "outputs": [
    {
     "data": {
      "text/html": [
       "<div>\n",
       "<table border=\"1\" class=\"dataframe\">\n",
       "  <thead>\n",
       "    <tr style=\"text-align: right;\">\n",
       "      <th></th>\n",
       "      <th>Investment Name</th>\n",
       "      <th>Agency</th>\n",
       "      <th>Subagency</th>\n",
       "      <th>Year Established</th>\n",
       "      <th>Funding FY2008</th>\n",
       "      <th>Funding FY2009</th>\n",
       "      <th>Funding FY2010</th>\n",
       "      <th>Mission-specific or General STEM?</th>\n",
       "    </tr>\n",
       "  </thead>\n",
       "  <tbody>\n",
       "    <tr>\n",
       "      <th>1</th>\n",
       "      <td>Centers for Ocean Sciences Education Excellence ~</td>\n",
       "      <td>National Science Foundation</td>\n",
       "      <td>Directorate for Geosciences (GEO)</td>\n",
       "      <td>2002</td>\n",
       "      <td>5.24</td>\n",
       "      <td>7.19</td>\n",
       "      <td>5.7</td>\n",
       "      <td>General STEM</td>\n",
       "    </tr>\n",
       "    <tr>\n",
       "      <th>2</th>\n",
       "      <td>Broadening Participation in Computing (BPC)</td>\n",
       "      <td>National Science Foundation</td>\n",
       "      <td>Directorate for Computer &amp; Information Science...</td>\n",
       "      <td>2006</td>\n",
       "      <td>14</td>\n",
       "      <td>14</td>\n",
       "      <td>14</td>\n",
       "      <td>General STEM</td>\n",
       "    </tr>\n",
       "    <tr>\n",
       "      <th>3</th>\n",
       "      <td>CISE Pathways to Revitalized Undergraduate Com...</td>\n",
       "      <td>National Science Foundation</td>\n",
       "      <td>Directorate for Computer &amp; Information Science...</td>\n",
       "      <td>2007</td>\n",
       "      <td>5</td>\n",
       "      <td>5</td>\n",
       "      <td>4.37</td>\n",
       "      <td>General STEM</td>\n",
       "    </tr>\n",
       "    <tr>\n",
       "      <th>4</th>\n",
       "      <td>Opportunities for Enhancing Diversity in the G...</td>\n",
       "      <td>National Science Foundation</td>\n",
       "      <td>Directorate for Geosciences (GEO)</td>\n",
       "      <td>2002</td>\n",
       "      <td>4.57</td>\n",
       "      <td>11.79</td>\n",
       "      <td>4.18</td>\n",
       "      <td>General STEM</td>\n",
       "    </tr>\n",
       "    <tr>\n",
       "      <th>5</th>\n",
       "      <td>Geoscience Education</td>\n",
       "      <td>National Science Foundation</td>\n",
       "      <td>Directorate for Geosciences (GEO)</td>\n",
       "      <td>1999</td>\n",
       "      <td>1.63</td>\n",
       "      <td>2.74</td>\n",
       "      <td>2.02</td>\n",
       "      <td>General STEM</td>\n",
       "    </tr>\n",
       "  </tbody>\n",
       "</table>\n",
       "</div>"
      ],
      "text/plain": [
       "                                     Investment Name  \\\n",
       "1  Centers for Ocean Sciences Education Excellence ~   \n",
       "2        Broadening Participation in Computing (BPC)   \n",
       "3  CISE Pathways to Revitalized Undergraduate Com...   \n",
       "4  Opportunities for Enhancing Diversity in the G...   \n",
       "5                               Geoscience Education   \n",
       "\n",
       "                        Agency  \\\n",
       "1  National Science Foundation   \n",
       "2  National Science Foundation   \n",
       "3  National Science Foundation   \n",
       "4  National Science Foundation   \n",
       "5  National Science Foundation   \n",
       "\n",
       "                                           Subagency Year Established  \\\n",
       "1                  Directorate for Geosciences (GEO)             2002   \n",
       "2  Directorate for Computer & Information Science...             2006   \n",
       "3  Directorate for Computer & Information Science...             2007   \n",
       "4                  Directorate for Geosciences (GEO)             2002   \n",
       "5                  Directorate for Geosciences (GEO)             1999   \n",
       "\n",
       "  Funding FY2008 Funding FY2009 Funding FY2010  \\\n",
       "1           5.24           7.19            5.7   \n",
       "2             14             14             14   \n",
       "3              5              5           4.37   \n",
       "4           4.57          11.79           4.18   \n",
       "5           1.63           2.74           2.02   \n",
       "\n",
       "  Mission-specific or General STEM?  \n",
       "1                      General STEM  \n",
       "2                      General STEM  \n",
       "3                      General STEM  \n",
       "4                      General STEM  \n",
       "5                      General STEM  "
      ]
     },
     "execution_count": 31,
     "metadata": {},
     "output_type": "execute_result"
    }
   ],
   "source": [
    "data.head()"
   ]
  },
  {
   "cell_type": "code",
   "execution_count": 32,
   "metadata": {
    "collapsed": false
   },
   "outputs": [
    {
     "name": "stdout",
     "output_type": "stream",
     "text": [
      "['National Science Foundation' 'NASA' 'Defense'\n",
      " 'Environmental Protection Agency' 'Energy' 'Education' 'Commerce'\n",
      " 'Interior' 'Agriculture' 'Nuclear Regulatory Commission'\n",
      " 'Health & Human Services' 'Transportation' 'Homeland Security']\n",
      "['Directorate for Geosciences (GEO)'\n",
      " 'Directorate for Computer & Information Science & Engineering (CISE)'\n",
      " 'Directorate for Education and Human Resources (EHR)'\n",
      " 'Office of International Science and Engineering (OISE)'\n",
      " 'Directorate for Biological Sciences (BIO)'\n",
      " 'Office of Polar Programs (OPP)'\n",
      " 'Directorate for Math and Physical Sciences (MPS)'\n",
      " 'Directorate for Engineering (ENG)' 'Science Mission Directorate (SMD)'\n",
      " 'Education Office' 'ARMD' 'Center GSFC' 'ESMD' 'Center JSC' 'Center GRC'\n",
      " 'SMOD' 'Center MSFC' 'Center JPL' 'Center LaRC' nan\n",
      " 'Office Research and Development (ORD)'\n",
      " 'Office of Environmental Education'\n",
      " 'National Center for Environmental Research (NCER)'\n",
      " 'Office of Nuclear Energy (NE)' 'Office of Economic Impact and Diversity'\n",
      " 'Office of Fossil Energy'\n",
      " 'Office of Energy Efficiency and Renewable Energy, Vehicle Technologies'\n",
      " 'Office of Energy Efficiency and Renewable Energy, Building Technologies'\n",
      " 'Office of Energy Efficiency and Renewable Energy, Industrial Technologies'\n",
      " 'Office of Energy Efficiency and Renewable Energy, Solar'\n",
      " 'Office of Environmental Management'\n",
      " 'Office of Science, Office of Fusion Energy Sciences'\n",
      " 'Office of Science, Office of Workforce Development for Teachers and Scientists'\n",
      " 'Institute of Education Sciences (IES)'\n",
      " 'Office of Elementary and Secondary Education (OESE)'\n",
      " 'Office of Innovation and Improvement (OII)'\n",
      " 'Office of Postsecondary Education (OPE)' 'NOAA' 'USGS' 'NIFA'\n",
      " 'Office of Human Resources' 'National Institutes of Health (NIH)'\n",
      " 'National Institute of General Medical Sciences (NIGMS)'\n",
      " 'National Center for Research Resources (NCRR)'\n",
      " 'National Cancer Institute (NCI)'\n",
      " 'National Heart, Lung, and Blood Institute (NHLBI)'\n",
      " 'National Institute of Environmental Health Sciences (NIEHS)'\n",
      " 'National Institute of Allergy and Infectious Diseases (NIAID)'\n",
      " 'National Institute of Neurological Disorders and Stroke (NINDS)'\n",
      " 'National Institute of Child Health & Human Development (NICHD)'\n",
      " 'Office of Intramural Training and Education'\n",
      " 'Office of Science Education (OSE)'\n",
      " 'NIH Intramural - Office of Clinical Research Training and Medical Education'\n",
      " 'National Institute on Drug Abuse (NIDA)' 'NIST'\n",
      " 'Research and Innovative Technology Administration'\n",
      " 'Federal Highway Administration' 'Federal Aviation Administration'\n",
      " 'Small Business and Civil Rights Office'\n",
      " 'National Library of Medicine (NLM)' 'National Security Agency'\n",
      " 'S&T Office of University Programs'\n",
      " 'Office of Energy Efficiency and Renewable Energy, Wind'\n",
      " 'Office of Cyberinfrastructure (OCI)' 'APHIS']\n",
      "['General STEM' 'Agency Mission Workforce']\n"
     ]
    }
   ],
   "source": [
    "print(data[\"Agency\"].unique())\n",
    "print(data[\"Subagency\"].unique())\n",
    "print(data[\"Mission-specific or General STEM?\"].unique())"
   ]
  },
  {
   "cell_type": "code",
   "execution_count": 33,
   "metadata": {
    "collapsed": false
   },
   "outputs": [],
   "source": [
    "key=data['Agency'].unique()\n",
    "val=len(key)\n",
    "dt = dict()\n"
   ]
  },
  {
   "cell_type": "code",
   "execution_count": 34,
   "metadata": {
    "collapsed": false
   },
   "outputs": [],
   "source": [
    "class myDict(dict):\n",
    "\n",
    "    def __init__(self):\n",
    "        self = dict()\n",
    "\n",
    "    def add(self, key, value):\n",
    "        self[key] = value\n",
    "    \n",
    "\n",
    "## example\n",
    "\n",
    "myd = myDict()\n",
    "for i in range(val):\n",
    "    myd.add(key[i],i)\n"
   ]
  },
  {
   "cell_type": "code",
   "execution_count": 35,
   "metadata": {
    "collapsed": false
   },
   "outputs": [],
   "source": [
    "#encode as integer\n",
    "mapping = myd\n",
    "data = data.replace({'Agency':mapping})"
   ]
  },
  {
   "cell_type": "code",
   "execution_count": 36,
   "metadata": {
    "collapsed": false
   },
   "outputs": [],
   "source": [
    "key=data['Mission-specific or General STEM?'].unique()\n",
    "val=len(key)\n",
    "dt = dict()\n",
    "\n",
    "myd = myDict()\n",
    "for i in range(val):\n",
    "    myd.add(key[i],i)\n",
    "\n",
    "\n",
    "#encode as integer\n",
    "mapping = myd\n",
    "data = data.replace({'Mission-specific or General STEM?':mapping})"
   ]
  },
  {
   "cell_type": "code",
   "execution_count": 37,
   "metadata": {
    "collapsed": true
   },
   "outputs": [],
   "source": [
    "key=data['Subagency'].unique()\n",
    "val=len(key)\n",
    "dt = dict()\n",
    "\n",
    "myd = myDict()\n",
    "for i in range(val):\n",
    "    myd.add(key[i],i)\n",
    "\n",
    "\n",
    "#encode as integer\n",
    "mapping = myd\n",
    "data = data.replace({'Subagency':mapping})"
   ]
  },
  {
   "cell_type": "code",
   "execution_count": 38,
   "metadata": {
    "collapsed": false
   },
   "outputs": [],
   "source": [
    "data['Funding FY2008'].fillna(method='ffill',inplace=True)\n",
    "data['Funding FY2009'].fillna(method='ffill',inplace=True)\n",
    "data['Funding FY2010'].fillna(method='ffill',inplace=True)\n",
    "data['Year Established'].fillna(method='ffill',inplace=True)\n",
    "target.fillna(method='ffill',inplace=True)"
   ]
  },
  {
   "cell_type": "code",
   "execution_count": 39,
   "metadata": {
    "collapsed": false
   },
   "outputs": [
    {
     "data": {
      "text/plain": [
       "Investment Name                      0.0\n",
       "Agency                               0.0\n",
       "Subagency                            0.0\n",
       "Year Established                     0.0\n",
       "Funding FY2008                       0.0\n",
       "Funding FY2009                       0.0\n",
       "Funding FY2010                       0.0\n",
       "Mission-specific or General STEM?    0.0\n",
       "dtype: float64"
      ]
     },
     "execution_count": 39,
     "metadata": {},
     "output_type": "execute_result"
    }
   ],
   "source": [
    "data.isnull().sum(axis=0)/data.shape[0]"
   ]
  },
  {
   "cell_type": "code",
   "execution_count": 40,
   "metadata": {
    "collapsed": false
   },
   "outputs": [
    {
     "data": {
      "text/plain": [
       "0.0"
      ]
     },
     "execution_count": 40,
     "metadata": {},
     "output_type": "execute_result"
    }
   ],
   "source": [
    "target.isnull().sum(axis=0)/target.shape[0]"
   ]
  },
  {
   "cell_type": "code",
   "execution_count": 41,
   "metadata": {
    "collapsed": false
   },
   "outputs": [],
   "source": [
    "#data['Funding FY2008']=data['Funding FY2008'].astype(int)\n",
    "#data['Funding FY2009']=data['Funding FY2009'].astype(int)\n",
    "#data['Funding FY2010']=data['Funding FY2010'].astype(int)\n",
    "data['Year Established']=data['Year Established'].astype(int)"
   ]
  },
  {
   "cell_type": "code",
   "execution_count": 42,
   "metadata": {
    "collapsed": false
   },
   "outputs": [
    {
     "data": {
      "text/html": [
       "<div>\n",
       "<table border=\"1\" class=\"dataframe\">\n",
       "  <thead>\n",
       "    <tr style=\"text-align: right;\">\n",
       "      <th></th>\n",
       "      <th>Investment Name</th>\n",
       "      <th>Agency</th>\n",
       "      <th>Subagency</th>\n",
       "      <th>Year Established</th>\n",
       "      <th>Funding FY2008</th>\n",
       "      <th>Funding FY2009</th>\n",
       "      <th>Funding FY2010</th>\n",
       "      <th>Mission-specific or General STEM?</th>\n",
       "    </tr>\n",
       "  </thead>\n",
       "  <tbody>\n",
       "    <tr>\n",
       "      <th>1</th>\n",
       "      <td>Centers for Ocean Sciences Education Excellence ~</td>\n",
       "      <td>0</td>\n",
       "      <td>0</td>\n",
       "      <td>2002</td>\n",
       "      <td>5.24</td>\n",
       "      <td>7.19</td>\n",
       "      <td>5.70</td>\n",
       "      <td>0</td>\n",
       "    </tr>\n",
       "    <tr>\n",
       "      <th>2</th>\n",
       "      <td>Broadening Participation in Computing (BPC)</td>\n",
       "      <td>0</td>\n",
       "      <td>1</td>\n",
       "      <td>2006</td>\n",
       "      <td>14.00</td>\n",
       "      <td>14.00</td>\n",
       "      <td>14.00</td>\n",
       "      <td>0</td>\n",
       "    </tr>\n",
       "    <tr>\n",
       "      <th>3</th>\n",
       "      <td>CISE Pathways to Revitalized Undergraduate Com...</td>\n",
       "      <td>0</td>\n",
       "      <td>1</td>\n",
       "      <td>2007</td>\n",
       "      <td>5.00</td>\n",
       "      <td>5.00</td>\n",
       "      <td>4.37</td>\n",
       "      <td>0</td>\n",
       "    </tr>\n",
       "    <tr>\n",
       "      <th>4</th>\n",
       "      <td>Opportunities for Enhancing Diversity in the G...</td>\n",
       "      <td>0</td>\n",
       "      <td>0</td>\n",
       "      <td>2002</td>\n",
       "      <td>4.57</td>\n",
       "      <td>11.79</td>\n",
       "      <td>4.18</td>\n",
       "      <td>0</td>\n",
       "    </tr>\n",
       "    <tr>\n",
       "      <th>5</th>\n",
       "      <td>Geoscience Education</td>\n",
       "      <td>0</td>\n",
       "      <td>0</td>\n",
       "      <td>1999</td>\n",
       "      <td>1.63</td>\n",
       "      <td>2.74</td>\n",
       "      <td>2.02</td>\n",
       "      <td>0</td>\n",
       "    </tr>\n",
       "  </tbody>\n",
       "</table>\n",
       "</div>"
      ],
      "text/plain": [
       "                                     Investment Name  Agency  Subagency  \\\n",
       "1  Centers for Ocean Sciences Education Excellence ~       0          0   \n",
       "2        Broadening Participation in Computing (BPC)       0          1   \n",
       "3  CISE Pathways to Revitalized Undergraduate Com...       0          1   \n",
       "4  Opportunities for Enhancing Diversity in the G...       0          0   \n",
       "5                               Geoscience Education       0          0   \n",
       "\n",
       "   Year Established  Funding FY2008  Funding FY2009  Funding FY2010  \\\n",
       "1              2002            5.24            7.19            5.70   \n",
       "2              2006           14.00           14.00           14.00   \n",
       "3              2007            5.00            5.00            4.37   \n",
       "4              2002            4.57           11.79            4.18   \n",
       "5              1999            1.63            2.74            2.02   \n",
       "\n",
       "   Mission-specific or General STEM?  \n",
       "1                                  0  \n",
       "2                                  0  \n",
       "3                                  0  \n",
       "4                                  0  \n",
       "5                                  0  "
      ]
     },
     "execution_count": 42,
     "metadata": {},
     "output_type": "execute_result"
    }
   ],
   "source": [
    "data.head()"
   ]
  },
  {
   "cell_type": "code",
   "execution_count": 43,
   "metadata": {
    "collapsed": false
   },
   "outputs": [],
   "source": [
    "y = target\n",
    "data.drop(['Investment Name'], inplace=True, axis=1)"
   ]
  },
  {
   "cell_type": "code",
   "execution_count": 44,
   "metadata": {
    "collapsed": true
   },
   "outputs": [],
   "source": [
    "from sklearn.model_selection import train_test_split"
   ]
  },
  {
   "cell_type": "code",
   "execution_count": 45,
   "metadata": {
    "collapsed": false
   },
   "outputs": [],
   "source": [
    "X_train, X_test, y_train, y_test = train_test_split(data, y, test_size=0.30, random_state=42)\n"
   ]
  },
  {
   "cell_type": "markdown",
   "metadata": {},
   "source": [
    "Divide data into train & test samples. (70-30 split)\n"
   ]
  },
  {
   "cell_type": "markdown",
   "metadata": {},
   "source": [
    "## Buliding xgboost  Model "
   ]
  },
  {
   "cell_type": "code",
   "execution_count": 46,
   "metadata": {
    "collapsed": false
   },
   "outputs": [
    {
     "name": "stderr",
     "output_type": "stream",
     "text": [
      "C:\\Users\\mail2\\Anaconda3\\lib\\site-packages\\sklearn\\cross_validation.py:41: DeprecationWarning: This module was deprecated in version 0.18 in favor of the model_selection module into which all the refactored classes and functions are moved. Also note that the interface of the new CV iterators are different from that of this module. This module will be removed in 0.20.\n",
      "  \"This module will be removed in 0.20.\", DeprecationWarning)\n"
     ]
    }
   ],
   "source": [
    "from sklearn import cross_validation\n",
    "import xgboost as xgb\n",
    "from sklearn.metrics import roc_auc_score\n"
   ]
  },
  {
   "cell_type": "code",
   "execution_count": 47,
   "metadata": {
    "collapsed": false
   },
   "outputs": [],
   "source": [
    "xgtrain = xgb.DMatrix(X_train, label = y_train)\n"
   ]
  },
  {
   "cell_type": "code",
   "execution_count": 48,
   "metadata": {
    "collapsed": true
   },
   "outputs": [],
   "source": [
    "clf = xgb.XGBClassifier(max_depth = 20,\n",
    "                        n_estimators=1000,\n",
    "                        learning_rate=0.001, \n",
    "                        nthread=10,\n",
    "                        subsample=1.0,\n",
    "                        colsample_bytree=0.5,\n",
    "                        min_child_weight = 3,\n",
    "                        seed=1301)"
   ]
  },
  {
   "cell_type": "code",
   "execution_count": 49,
   "metadata": {
    "collapsed": false
   },
   "outputs": [],
   "source": [
    "xgb_param = clf.get_xgb_params()"
   ]
  },
  {
   "cell_type": "code",
   "execution_count": 50,
   "metadata": {
    "collapsed": false
   },
   "outputs": [
    {
     "name": "stdout",
     "output_type": "stream",
     "text": [
      "Start cross validation\n",
      "Best number of trees = 1\n"
     ]
    }
   ],
   "source": [
    "#do cross validation\n",
    "print ('Start cross validation')\n",
    "cvresult = xgb.cv(xgb_param, xgtrain, num_boost_round=5000, nfold=15, metrics=['auc'],early_stopping_rounds=50, stratified=True, seed=1301)\n",
    "print('Best number of trees = {}'.format(cvresult.shape[0]))"
   ]
  },
  {
   "cell_type": "code",
   "execution_count": 51,
   "metadata": {
    "collapsed": false
   },
   "outputs": [
    {
     "name": "stdout",
     "output_type": "stream",
     "text": [
      "Overall AUC in traning data: 0.862258953168\n",
      "Overall AUC in testing data: 0.745833333333\n"
     ]
    }
   ],
   "source": [
    "clf.set_params(n_estimators=cvresult.shape[0])\n",
    "clf.fit(X_train, y_train, eval_metric='auc')\n",
    "print('Overall AUC in traning data:', roc_auc_score(y_train, clf.predict_proba(X_train)[:,1]))\n",
    "print('Overall AUC in testing data:', roc_auc_score(y_test, clf.predict_proba(X_test)[:,1]))\n"
   ]
  },
  {
   "cell_type": "code",
   "execution_count": 54,
   "metadata": {
    "collapsed": false
   },
   "outputs": [],
   "source": [
    "def test_add(self, key, value):\n",
    "    re=add(0,10)\n",
    "    assert re == 10\n",
    "\n"
   ]
  },
  {
   "cell_type": "code",
   "execution_count": 55,
   "metadata": {
    "collapsed": false
   },
   "outputs": [
    {
     "name": "stdout",
     "output_type": "stream",
     "text": [
      "============================= test session starts =============================\n",
      "platform win32 -- Python 3.5.2, pytest-2.9.2, py-1.4.31, pluggy-0.3.1\n",
      "rootdir: K:\\placement, inifile: \n",
      "collected 0 items\n",
      "\n",
      "======================== no tests ran in 0.00 seconds =========================\n"
     ]
    }
   ],
   "source": [
    "! py.test "
   ]
  },
  {
   "cell_type": "code",
   "execution_count": null,
   "metadata": {
    "collapsed": true
   },
   "outputs": [],
   "source": []
  },
  {
   "cell_type": "code",
   "execution_count": null,
   "metadata": {
    "collapsed": true
   },
   "outputs": [],
   "source": []
  }
 ],
 "metadata": {
  "anaconda-cloud": {},
  "kernelspec": {
   "display_name": "Python [conda root]",
   "language": "python",
   "name": "conda-root-py"
  },
  "language_info": {
   "codemirror_mode": {
    "name": "ipython",
    "version": 3
   },
   "file_extension": ".py",
   "mimetype": "text/x-python",
   "name": "python",
   "nbconvert_exporter": "python",
   "pygments_lexer": "ipython3",
   "version": "3.5.2"
  }
 },
 "nbformat": 4,
 "nbformat_minor": 1
}
